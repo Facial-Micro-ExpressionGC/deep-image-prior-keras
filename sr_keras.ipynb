{
 "cells": [
  {
   "cell_type": "markdown",
   "metadata": {
    "colab_type": "text",
    "id": "SyGQ_X01TMzs"
   },
   "source": [
    "# Super Resolution implemetation of Deep Image Prior using Keras"
   ]
  },
  {
   "cell_type": "markdown",
   "metadata": {
    "colab_type": "text",
    "id": "PVGUZiGFTXgq"
   },
   "source": [
    "Connecting to Gdrive"
   ]
  },
  {
   "cell_type": "code",
   "execution_count": 0,
   "metadata": {
    "colab": {
     "base_uri": "https://localhost:8080/",
     "height": 34
    },
    "colab_type": "code",
    "executionInfo": {
     "elapsed": 935,
     "status": "ok",
     "timestamp": 1549708992991,
     "user": {
      "displayName": "Rohan Singh",
      "photoUrl": "",
      "userId": "03968295702124788339"
     },
     "user_tz": -60
    },
    "id": "4otgANFeTZEf",
    "outputId": "8c9f38aa-e145-4a20-c41a-31faa3b767a9"
   },
   "outputs": [
    {
     "name": "stdout",
     "output_type": "stream",
     "text": [
      "Drive already mounted at /content/drive; to attempt to forcibly remount, call drive.mount(\"/content/drive\", force_remount=True).\n"
     ]
    }
   ],
   "source": [
    "# Load the Drive helper and mount\n",
    "from google.colab import drive\n",
    "\n",
    "# This will prompt for authorization.\n",
    "drive.mount('/content/drive')\n",
    "\n",
    "# File locations\n",
    "dir = '/content/drive/My Drive/Colab Notebooks/'"
   ]
  },
  {
   "cell_type": "markdown",
   "metadata": {
    "colab_type": "text",
    "id": "XiVI0t6mTT4p"
   },
   "source": [
    "Importing packages"
   ]
  },
  {
   "cell_type": "code",
   "execution_count": 0,
   "metadata": {
    "colab": {},
    "colab_type": "code",
    "id": "R7x9aeu7TLHR"
   },
   "outputs": [],
   "source": [
    "import tensorflow as tf\n",
    "\n",
    "import numpy as np\n",
    "\n",
    "from tensorflow.keras.applications import inception_v3\n",
    "from tensorflow.keras import backend as K\n",
    "import tensorflow.keras\n",
    "from tensorflow.keras.callbacks import ModelCheckpoint\n",
    "from tensorflow.keras.layers import Lambda\n",
    "\n",
    "from tensorflow.keras.models import Sequential\n",
    "from tensorflow.keras.models import Model\n",
    "from tensorflow.keras.layers import Dense\n",
    "from tensorflow.keras.layers import Convolution2D\n",
    "from tensorflow.keras.layers import AveragePooling2D\n",
    "from tensorflow.keras.layers import UpSampling2D\n",
    "from tensorflow.keras.layers import Reshape\n",
    "from tensorflow.keras.layers import Flatten\n",
    "from tensorflow.keras.layers import Input\n",
    "from tensorflow.keras.layers import BatchNormalization\n",
    "from tensorflow.keras.layers import ZeroPadding2D\n",
    "\n",
    "from PIL import Image\n",
    "import matplotlib.pyplot as plt\n",
    "%matplotlib inline\n",
    "\n",
    "K.set_image_data_format('channels_last')\n",
    "K.image_data_format()\n",
    "\n",
    "tf.enable_eager_execution()"
   ]
  },
  {
   "cell_type": "markdown",
   "metadata": {
    "colab_type": "text",
    "id": "szB00iK_WOsV"
   },
   "source": [
    "Loading image"
   ]
  },
  {
   "cell_type": "code",
   "execution_count": 0,
   "metadata": {
    "colab": {},
    "colab_type": "code",
    "id": "xImNM12aVnFk"
   },
   "outputs": [],
   "source": [
    "SCALING_FACTOR = 2\n",
    "encoding_size = 128\n",
    "perturbation_max = 40\n",
    "\n",
    "\n",
    "base_dir = '/content/drive/My Drive/Colab Notebooks/deep-image-prior/'\n",
    "path_to_image = base_dir + 'data/sr/zebra_GT.png'\n",
    "img_orig = Image.open(path_to_image)\n",
    "img_orig_np = np.array(img_orig).astype(np.float32) / 255"
   ]
  },
  {
   "cell_type": "code",
   "execution_count": 0,
   "metadata": {
    "colab": {
     "base_uri": "https://localhost:8080/",
     "height": 34
    },
    "colab_type": "code",
    "executionInfo": {
     "elapsed": 2022,
     "status": "ok",
     "timestamp": 1549708994111,
     "user": {
      "displayName": "Rohan Singh",
      "photoUrl": "",
      "userId": "03968295702124788339"
     },
     "user_tz": -60
    },
    "id": "ywwe8aeTZWP1",
    "outputId": "17fff12b-8719-4b2c-95b0-f08d6ea2ddfd"
   },
   "outputs": [
    {
     "data": {
      "text/plain": [
       "(388, 584, 3)"
      ]
     },
     "execution_count": 4,
     "metadata": {
      "tags": []
     },
     "output_type": "execute_result"
    }
   ],
   "source": [
    "img_orig_np.shape"
   ]
  },
  {
   "cell_type": "code",
   "execution_count": 0,
   "metadata": {
    "colab": {},
    "colab_type": "code",
    "id": "NMdfqZzMWN84"
   },
   "outputs": [],
   "source": [
    "img_bicubic = img_orig.resize((int(img_orig.size[0] * SCALING_FACTOR), int(img_orig.size[1] * SCALING_FACTOR)), Image.BICUBIC)\n",
    "img_bicubic\n",
    "img_bicubic_np = np.array(img_bicubic).astype(np.float32) / 255"
   ]
  },
  {
   "cell_type": "code",
   "execution_count": 0,
   "metadata": {
    "colab": {},
    "colab_type": "code",
    "id": "mcu4wLKSYUhB"
   },
   "outputs": [],
   "source": [
    "h, w, ch = img_bicubic_np.shape\n",
    "if h % 64 != 0:\n",
    "    crop_h = h // 64 * 64\n",
    "if w % 64 != 0:\n",
    "    crop_w = w // 64 * 64\n",
    "\n",
    "img_bicubic_crop = img_bicubic_np[0:crop_h, 0:crop_w, :]"
   ]
  },
  {
   "cell_type": "code",
   "execution_count": 0,
   "metadata": {
    "colab": {
     "base_uri": "https://localhost:8080/",
     "height": 34
    },
    "colab_type": "code",
    "executionInfo": {
     "elapsed": 1993,
     "status": "ok",
     "timestamp": 1549708994116,
     "user": {
      "displayName": "Rohan Singh",
      "photoUrl": "",
      "userId": "03968295702124788339"
     },
     "user_tz": -60
    },
    "id": "9mc0xVSqIS3w",
    "outputId": "590f5fb1-96e8-40c3-be72-0f9bb257c66d"
   },
   "outputs": [
    {
     "data": {
      "text/plain": [
       "(768, 1152, 3)"
      ]
     },
     "execution_count": 7,
     "metadata": {
      "tags": []
     },
     "output_type": "execute_result"
    }
   ],
   "source": [
    "img_bicubic_crop.shape"
   ]
  },
  {
   "cell_type": "markdown",
   "metadata": {
    "colab_type": "text",
    "id": "b1aCjkgr4w9A"
   },
   "source": [
    "Define model"
   ]
  },
  {
   "cell_type": "code",
   "execution_count": 0,
   "metadata": {
    "colab": {},
    "colab_type": "code",
    "id": "hYDLYF2ocie2"
   },
   "outputs": [],
   "source": [
    "input_depth = 32\n",
    "input_dims = (1, crop_h, crop_w, input_depth)\n",
    "\n",
    "net_input = K.random_uniform(input_dims) #add var"
   ]
  },
  {
   "cell_type": "code",
   "execution_count": 0,
   "metadata": {
    "colab": {
     "base_uri": "https://localhost:8080/",
     "height": 34
    },
    "colab_type": "code",
    "executionInfo": {
     "elapsed": 2752,
     "status": "ok",
     "timestamp": 1549708994895,
     "user": {
      "displayName": "Rohan Singh",
      "photoUrl": "",
      "userId": "03968295702124788339"
     },
     "user_tz": -60
    },
    "id": "YXGv-21OBZEY",
    "outputId": "6c6d9b6d-ae09-49ad-95f6-1349c78b12bb"
   },
   "outputs": [
    {
     "data": {
      "text/plain": [
       "(1, 768, 1152, 32)"
      ]
     },
     "execution_count": 9,
     "metadata": {
      "tags": []
     },
     "output_type": "execute_result"
    }
   ],
   "source": [
    "input_dims"
   ]
  },
  {
   "cell_type": "code",
   "execution_count": 0,
   "metadata": {
    "colab": {},
    "colab_type": "code",
    "id": "mQr834MwYpO_"
   },
   "outputs": [],
   "source": [
    "# base_model = inception_v3.InceptionV3(weights=None, include_top=False, input_shape=input_dims[1:], pooling='avg')\n",
    "# x = base_model.get_layer('mixed10').output\n",
    "# x = ZeroPadding2D((1,1))(x)\n",
    "# x = Convolution2D(256, 3, padding = 'same', activation = 'relu')(x)\n",
    "# x = BatchNormalization()(x)\n",
    "# x = UpSampling2D()(x)\n",
    "# x = Convolution2D(128, 3, padding = 'same', activation = 'relu')(x)\n",
    "# x = BatchNormalization()(x)\n",
    "# x = UpSampling2D()(x)\n",
    "# x = Convolution2D(64, 3, padding = 'same', activation = 'relu')(x)\n",
    "# x = BatchNormalization()(x)\n",
    "# x = UpSampling2D()(x)\n",
    "# x = Convolution2D(32, 3, padding = 'same', activation = 'relu')(x)\n",
    "# x = BatchNormalization()(x)\n",
    "# x = UpSampling2D()(x)\n",
    "# x = Convolution2D(16, 3, padding = 'same', activation = 'relu')(x)\n",
    "# x = BatchNormalization()(x)\n",
    "# x = UpSampling2D()(x)\n",
    "# x = Convolution2D(3, 3, padding = 'same', activation = 'relu')(x)\n",
    "# model = Model(inputs=base_model.input, outputs=x)"
   ]
  },
  {
   "cell_type": "code",
   "execution_count": 0,
   "metadata": {
    "colab": {
     "base_uri": "https://localhost:8080/",
     "height": 88
    },
    "colab_type": "code",
    "executionInfo": {
     "elapsed": 3800,
     "status": "ok",
     "timestamp": 1549708995958,
     "user": {
      "displayName": "Rohan Singh",
      "photoUrl": "",
      "userId": "03968295702124788339"
     },
     "user_tz": -60
    },
    "id": "DvsEiXaibsJp",
    "outputId": "8240b5c5-57df-43ba-815c-c0ca35bc1093"
   },
   "outputs": [
    {
     "name": "stdout",
     "output_type": "stream",
     "text": [
      "WARNING:tensorflow:From /usr/local/lib/python3.6/dist-packages/tensorflow/python/ops/resource_variable_ops.py:642: colocate_with (from tensorflow.python.framework.ops) is deprecated and will be removed in a future version.\n",
      "Instructions for updating:\n",
      "Colocations handled automatically by placer.\n"
     ]
    }
   ],
   "source": [
    "def UpSampling2DBilinear(size):\n",
    "    return Lambda(lambda x: tf.image.resize_bilinear(x, size, align_corners=True))\n",
    "\n",
    "model = Sequential([\n",
    "    Convolution2D(32, 3, padding = 'same', input_shape = input_dims[1:], activation = 'relu'),\n",
    "    Convolution2D(32, 3, padding = 'same', activation = 'relu'),\n",
    "    BatchNormalization(),\n",
    "    AveragePooling2D(),\n",
    "    Convolution2D(64, 3, padding = 'same', activation = 'relu'),\n",
    "    BatchNormalization(),\n",
    "    AveragePooling2D(),\n",
    "    Convolution2D(128, 3, padding = 'same', activation = 'relu'),\n",
    "    BatchNormalization(),\n",
    "    AveragePooling2D(),\n",
    "    Convolution2D(256, 3, padding = 'same', activation = 'relu'),\n",
    "    BatchNormalization(),\n",
    "    AveragePooling2D(),\n",
    "    Convolution2D(256, 3, padding = 'same', activation = 'relu'),\n",
    "    BatchNormalization(),\n",
    "    AveragePooling2D(),\n",
    "    Convolution2D(512, 3, padding = 'same', activation = 'relu'),\n",
    "    BatchNormalization(),\n",
    "    AveragePooling2D(),\n",
    "    Convolution2D(512, 3, padding = 'same', activation = 'relu'),\n",
    "    BatchNormalization(),\n",
    "    UpSampling2D(),\n",
    "    Convolution2D(256, 3, padding = 'same', activation = 'relu'),\n",
    "    BatchNormalization(),\n",
    "    UpSampling2D(),\n",
    "    Convolution2D(128, 3, padding = 'same', activation = 'relu'),\n",
    "    BatchNormalization(),\n",
    "    UpSampling2D(),\n",
    "    Convolution2D(64, 3, padding = 'same', activation = 'relu'),\n",
    "    BatchNormalization(),\n",
    "    UpSampling2D(),    \n",
    "    Convolution2D(32, 3, padding = 'same', activation = 'relu'),\n",
    "    BatchNormalization(),\n",
    "    UpSampling2D(),\n",
    "    Convolution2D(16, 3, padding = 'same', activation = 'relu'),\n",
    "    BatchNormalization(),\n",
    "    UpSampling2D(),\n",
    "    Convolution2D(16, 3, padding = 'same', activation = 'relu'),\n",
    "    BatchNormalization(),\n",
    "    Convolution2D(3, 3, padding = 'same', activation = 'tanh')\n",
    "])"
   ]
  },
  {
   "cell_type": "code",
   "execution_count": 0,
   "metadata": {
    "colab": {
     "base_uri": "https://localhost:8080/",
     "height": 1496
    },
    "colab_type": "code",
    "executionInfo": {
     "elapsed": 3779,
     "status": "ok",
     "timestamp": 1549708995959,
     "user": {
      "displayName": "Rohan Singh",
      "photoUrl": "",
      "userId": "03968295702124788339"
     },
     "user_tz": -60
    },
    "id": "JxOLAWtYaSF8",
    "outputId": "6f83b545-85f1-4fd5-bba8-bc96595ba6eb"
   },
   "outputs": [
    {
     "name": "stdout",
     "output_type": "stream",
     "text": [
      "_________________________________________________________________\n",
      "Layer (type)                 Output Shape              Param #   \n",
      "=================================================================\n",
      "conv2d (Conv2D)              (None, 768, 1152, 32)     9248      \n",
      "_________________________________________________________________\n",
      "conv2d_1 (Conv2D)            (None, 768, 1152, 32)     9248      \n",
      "_________________________________________________________________\n",
      "batch_normalization_v1 (Batc (None, 768, 1152, 32)     128       \n",
      "_________________________________________________________________\n",
      "average_pooling2d (AveragePo (None, 384, 576, 32)      0         \n",
      "_________________________________________________________________\n",
      "conv2d_2 (Conv2D)            (None, 384, 576, 64)      18496     \n",
      "_________________________________________________________________\n",
      "batch_normalization_v1_1 (Ba (None, 384, 576, 64)      256       \n",
      "_________________________________________________________________\n",
      "average_pooling2d_1 (Average (None, 192, 288, 64)      0         \n",
      "_________________________________________________________________\n",
      "conv2d_3 (Conv2D)            (None, 192, 288, 128)     73856     \n",
      "_________________________________________________________________\n",
      "batch_normalization_v1_2 (Ba (None, 192, 288, 128)     512       \n",
      "_________________________________________________________________\n",
      "average_pooling2d_2 (Average (None, 96, 144, 128)      0         \n",
      "_________________________________________________________________\n",
      "conv2d_4 (Conv2D)            (None, 96, 144, 256)      295168    \n",
      "_________________________________________________________________\n",
      "batch_normalization_v1_3 (Ba (None, 96, 144, 256)      1024      \n",
      "_________________________________________________________________\n",
      "average_pooling2d_3 (Average (None, 48, 72, 256)       0         \n",
      "_________________________________________________________________\n",
      "conv2d_5 (Conv2D)            (None, 48, 72, 256)       590080    \n",
      "_________________________________________________________________\n",
      "batch_normalization_v1_4 (Ba (None, 48, 72, 256)       1024      \n",
      "_________________________________________________________________\n",
      "average_pooling2d_4 (Average (None, 24, 36, 256)       0         \n",
      "_________________________________________________________________\n",
      "conv2d_6 (Conv2D)            (None, 24, 36, 512)       1180160   \n",
      "_________________________________________________________________\n",
      "batch_normalization_v1_5 (Ba (None, 24, 36, 512)       2048      \n",
      "_________________________________________________________________\n",
      "average_pooling2d_5 (Average (None, 12, 18, 512)       0         \n",
      "_________________________________________________________________\n",
      "conv2d_7 (Conv2D)            (None, 12, 18, 512)       2359808   \n",
      "_________________________________________________________________\n",
      "batch_normalization_v1_6 (Ba (None, 12, 18, 512)       2048      \n",
      "_________________________________________________________________\n",
      "up_sampling2d (UpSampling2D) (None, 24, 36, 512)       0         \n",
      "_________________________________________________________________\n",
      "conv2d_8 (Conv2D)            (None, 24, 36, 256)       1179904   \n",
      "_________________________________________________________________\n",
      "batch_normalization_v1_7 (Ba (None, 24, 36, 256)       1024      \n",
      "_________________________________________________________________\n",
      "up_sampling2d_1 (UpSampling2 (None, 48, 72, 256)       0         \n",
      "_________________________________________________________________\n",
      "conv2d_9 (Conv2D)            (None, 48, 72, 128)       295040    \n",
      "_________________________________________________________________\n",
      "batch_normalization_v1_8 (Ba (None, 48, 72, 128)       512       \n",
      "_________________________________________________________________\n",
      "up_sampling2d_2 (UpSampling2 (None, 96, 144, 128)      0         \n",
      "_________________________________________________________________\n",
      "conv2d_10 (Conv2D)           (None, 96, 144, 64)       73792     \n",
      "_________________________________________________________________\n",
      "batch_normalization_v1_9 (Ba (None, 96, 144, 64)       256       \n",
      "_________________________________________________________________\n",
      "up_sampling2d_3 (UpSampling2 (None, 192, 288, 64)      0         \n",
      "_________________________________________________________________\n",
      "conv2d_11 (Conv2D)           (None, 192, 288, 32)      18464     \n",
      "_________________________________________________________________\n",
      "batch_normalization_v1_10 (B (None, 192, 288, 32)      128       \n",
      "_________________________________________________________________\n",
      "up_sampling2d_4 (UpSampling2 (None, 384, 576, 32)      0         \n",
      "_________________________________________________________________\n",
      "conv2d_12 (Conv2D)           (None, 384, 576, 16)      4624      \n",
      "_________________________________________________________________\n",
      "batch_normalization_v1_11 (B (None, 384, 576, 16)      64        \n",
      "_________________________________________________________________\n",
      "up_sampling2d_5 (UpSampling2 (None, 768, 1152, 16)     0         \n",
      "_________________________________________________________________\n",
      "conv2d_13 (Conv2D)           (None, 768, 1152, 16)     2320      \n",
      "_________________________________________________________________\n",
      "batch_normalization_v1_12 (B (None, 768, 1152, 16)     64        \n",
      "_________________________________________________________________\n",
      "conv2d_14 (Conv2D)           (None, 768, 1152, 3)      435       \n",
      "=================================================================\n",
      "Total params: 6,119,731\n",
      "Trainable params: 6,115,187\n",
      "Non-trainable params: 4,544\n",
      "_________________________________________________________________\n"
     ]
    }
   ],
   "source": [
    "model.summary()"
   ]
  },
  {
   "cell_type": "code",
   "execution_count": 0,
   "metadata": {
    "colab": {
     "base_uri": "https://localhost:8080/",
     "height": 88
    },
    "colab_type": "code",
    "executionInfo": {
     "elapsed": 3762,
     "status": "ok",
     "timestamp": 1549708995960,
     "user": {
      "displayName": "Rohan Singh",
      "photoUrl": "",
      "userId": "03968295702124788339"
     },
     "user_tz": -60
    },
    "id": "Bkqf1TRhacD0",
    "outputId": "c28cfa8e-787a-4700-f182-f32e99dd3917"
   },
   "outputs": [
    {
     "name": "stdout",
     "output_type": "stream",
     "text": [
      "WARNING:tensorflow:From /usr/local/lib/python3.6/dist-packages/tensorflow/python/keras/utils/losses_utils.py:170: to_float (from tensorflow.python.ops.math_ops) is deprecated and will be removed in a future version.\n",
      "Instructions for updating:\n",
      "Use tf.cast instead.\n"
     ]
    }
   ],
   "source": [
    "model.compile(tf.train.AdamOptimizer(), loss = 'mse')"
   ]
  },
  {
   "cell_type": "code",
   "execution_count": 0,
   "metadata": {
    "colab": {},
    "colab_type": "code",
    "id": "5oLSPxkIEywF"
   },
   "outputs": [],
   "source": [
    "n_epochs = 100\n",
    "img_batch = np.expand_dims(img_bicubic_crop,0)\n",
    "\n",
    "fit_params = {\n",
    "    'x': net_input,\n",
    "    'y': img_batch,\n",
    "    'epochs': n_epochs,\n",
    "    'batch_size': 1,\n",
    "    'verbose': 0,\n",
    "    'steps_per_epoch': 1\n",
    "}"
   ]
  },
  {
   "cell_type": "code",
   "execution_count": 0,
   "metadata": {
    "colab": {
     "base_uri": "https://localhost:8080/",
     "height": 34
    },
    "colab_type": "code",
    "executionInfo": {
     "elapsed": 3748,
     "status": "ok",
     "timestamp": 1549708995965,
     "user": {
      "displayName": "Rohan Singh",
      "photoUrl": "",
      "userId": "03968295702124788339"
     },
     "user_tz": -60
    },
    "id": "GltaPkIKCgpc",
    "outputId": "f39648a1-8322-4e27-8563-f505c7c59d4e"
   },
   "outputs": [
    {
     "data": {
      "text/plain": [
       "(1, 768, 1152, 3)"
      ]
     },
     "execution_count": 15,
     "metadata": {
      "tags": []
     },
     "output_type": "execute_result"
    }
   ],
   "source": [
    "img_batch.shape"
   ]
  },
  {
   "cell_type": "markdown",
   "metadata": {
    "colab_type": "text",
    "id": "Mxo0Ye7H4zqX"
   },
   "source": [
    "Run model"
   ]
  },
  {
   "cell_type": "code",
   "execution_count": 0,
   "metadata": {
    "colab": {},
    "colab_type": "code",
    "id": "YBeX5QtaJGCB"
   },
   "outputs": [],
   "source": [
    "#TODO add variance to net_input and change randomisation method\n",
    "#2D bilinear upscaling"
   ]
  },
  {
   "cell_type": "code",
   "execution_count": 17,
   "metadata": {
    "colab": {
     "base_uri": "https://localhost:8080/",
     "height": 14388,
     "output_embedded_package_id": "1z018N9PaAvoTtVQhjo9H-UMYegCJvEkX"
    },
    "colab_type": "code",
    "executionInfo": {
     "elapsed": 3432,
     "status": "ok",
     "timestamp": 1549671424292,
     "user": {
      "displayName": "Rohan Singh",
      "photoUrl": "",
      "userId": "03968295702124788339"
     },
     "user_tz": -660
    },
    "id": "AI-R1iKP6gA2",
    "outputId": "10473571-12a1-49ef-e36c-c3446a2b2ab0"
   },
   "outputs": [
    {
     "data": {
      "text/plain": [
       "Output hidden; open in https://colab.research.google.com to view."
      ]
     },
     "metadata": {},
     "output_type": "display_data"
    }
   ],
   "source": [
    "for i in range(50):\n",
    "    model.fit(**fit_params)\n",
    "    img_pred = model.predict(net_input, steps=1)\n",
    "    print('Epoch:' + str((i+1) * n_epochs))\n",
    "    plt.imshow(img_pred[0])\n",
    "    plt.show()"
   ]
  },
  {
   "cell_type": "code",
   "execution_count": 18,
   "metadata": {
    "colab": {
     "base_uri": "https://localhost:8080/",
     "height": 34
    },
    "colab_type": "code",
    "executionInfo": {
     "elapsed": 36,
     "status": "ok",
     "timestamp": 1549671424295,
     "user": {
      "displayName": "Rohan Singh",
      "photoUrl": "",
      "userId": "03968295702124788339"
     },
     "user_tz": -660
    },
    "id": "NRFpNVZXLtmL",
    "outputId": "4659a1a4-c806-4bed-c32b-f81261f67eff"
   },
   "outputs": [
    {
     "data": {
      "text/plain": [
       "True"
      ]
     },
     "execution_count": 18,
     "metadata": {
      "tags": []
     },
     "output_type": "execute_result"
    }
   ],
   "source": [
    "import cv2\n",
    "\n",
    "out_name = 'out/keras_zebra.jpg'\n",
    "# Save the image to disk\n",
    "cv2.imwrite(base_dir + out_name, cv2.cvtColor(255 * img_pred[0], cv2.COLOR_RGB2BGR))\n",
    "#cv2.imwrite(base_dir + out_name, img_pred[0] * 255)"
   ]
  },
  {
   "cell_type": "code",
   "execution_count": 19,
   "metadata": {
    "colab": {
     "base_uri": "https://localhost:8080/",
     "height": 34
    },
    "colab_type": "code",
    "executionInfo": {
     "elapsed": 32,
     "status": "ok",
     "timestamp": 1549671424301,
     "user": {
      "displayName": "Rohan Singh",
      "photoUrl": "",
      "userId": "03968295702124788339"
     },
     "user_tz": -660
    },
    "id": "Ai0tCkewdcG5",
    "outputId": "975631b1-66c4-42c7-9ab3-067d60122cb1"
   },
   "outputs": [
    {
     "data": {
      "text/plain": [
       "True"
      ]
     },
     "execution_count": 19,
     "metadata": {
      "tags": []
     },
     "output_type": "execute_result"
    }
   ],
   "source": [
    "out_name = 'out/keras_zebra_bc.jpg'\n",
    "# Save the image to disk\n",
    "cv2.imwrite(base_dir + out_name, cv2.cvtColor(255 * img_bicubic_np, cv2.COLOR_RGB2BGR))\n"
   ]
  },
  {
   "cell_type": "code",
   "execution_count": 0,
   "metadata": {
    "colab": {},
    "colab_type": "code",
    "id": "OJU0HOgtmIi9"
   },
   "outputs": [],
   "source": []
  }
 ],
 "metadata": {
  "accelerator": "GPU",
  "colab": {
   "collapsed_sections": [],
   "name": "sr_keras.ipynb",
   "provenance": [],
   "version": "0.3.2"
  },
  "kernelspec": {
   "display_name": "Python 3",
   "language": "python",
   "name": "python3"
  },
  "language_info": {
   "codemirror_mode": {
    "name": "ipython",
    "version": 3
   },
   "file_extension": ".py",
   "mimetype": "text/x-python",
   "name": "python",
   "nbconvert_exporter": "python",
   "pygments_lexer": "ipython3",
   "version": "3.6.7"
  }
 },
 "nbformat": 4,
 "nbformat_minor": 1
}
